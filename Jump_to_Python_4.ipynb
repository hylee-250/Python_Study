{
 "cells": [
  {
   "cell_type": "code",
   "execution_count": 2,
   "metadata": {
    "scrolled": true
   },
   "outputs": [
    {
     "name": "stdout",
     "output_type": "stream",
     "text": [
      "홀수입니다.\n",
      "홀수입니다.\n"
     ]
    }
   ],
   "source": [
    "#Q1\n",
    "def is_odd(num):\n",
    "    if(num % 2 ==0):\n",
    "        print(\"짝수입니다.\")\n",
    "    else:\n",
    "        print(\"홀수입니다.\")\n",
    "\n",
    "is_odd(915)\n",
    "is_odd(1021)"
   ]
  },
  {
   "cell_type": "code",
   "execution_count": 41,
   "metadata": {},
   "outputs": [
    {
     "data": {
      "text/plain": [
       "False"
      ]
     },
     "execution_count": 41,
     "metadata": {},
     "output_type": "execute_result"
    }
   ],
   "source": [
    "is_odd = lambda x:True if x % 2 == 0 else False\n",
    "is_odd(915)"
   ]
  },
  {
   "cell_type": "code",
   "execution_count": 4,
   "metadata": {},
   "outputs": [
    {
     "name": "stdout",
     "output_type": "stream",
     "text": [
      "5.5\n"
     ]
    }
   ],
   "source": [
    "#Q2\n",
    "def average(*args):\n",
    "    total = 0\n",
    "    for i in args:\n",
    "        total += i\n",
    "    result = total / len(args)\n",
    "    return result\n",
    "\n",
    "ans = average(1,2,3,4,5,6,7,8,9,10)\n",
    "print(ans)"
   ]
  },
  {
   "cell_type": "code",
   "execution_count": 5,
   "metadata": {},
   "outputs": [
    {
     "name": "stdout",
     "output_type": "stream",
     "text": [
      "첫번째 숫자를 입력하세요:3\n",
      "두번째 숫자를 입력하세요:6\n",
      "두 수의 합은 9입니다\n"
     ]
    }
   ],
   "source": [
    "#Q3\n",
    "input1 = int(input(\"첫번째 숫자를 입력하세요:\"))\n",
    "input2 = int(input(\"두번째 숫자를 입력하세요:\"))\n",
    "\n",
    "total = input1 + input2\n",
    "print(\"두 수의 합은 %d입니다\"%total)"
   ]
  },
  {
   "cell_type": "code",
   "execution_count": 6,
   "metadata": {},
   "outputs": [
    {
     "name": "stdout",
     "output_type": "stream",
     "text": [
      "you need python\n"
     ]
    }
   ],
   "source": [
    "#Q4\n",
    "# 답은 3번, 3번만 띄어쓰기가 적용\n",
    "print(\"you\",\"need\",\"python\")"
   ]
  },
  {
   "cell_type": "code",
   "execution_count": 44,
   "metadata": {},
   "outputs": [
    {
     "name": "stdout",
     "output_type": "stream",
     "text": [
      "Life is too short\n",
      "\n"
     ]
    }
   ],
   "source": [
    "#Q5\n",
    "f1 = open(\"C:\\\\Work\\\\Python\\\\Python_Study\\\\test.txt\",'w')\n",
    "f1.write(\"Life is too short\\n\")\n",
    "f1.close()\n",
    "f2 = open(\"C:\\\\Work\\\\Python\\\\Python_Study\\\\test.txt\",'r')\n",
    "result = f2.read()\n",
    "f2.close()\n",
    "print(result)"
   ]
  },
  {
   "cell_type": "code",
   "execution_count": 43,
   "metadata": {
    "scrolled": true
   },
   "outputs": [
    {
     "name": "stdout",
     "output_type": "stream",
     "text": [
      "저장할 내용을 입력하세요:AI Blockchain Cloud Data\n",
      "Life is too short\n",
      "you need pythonAI Blockchain Cloud Data\n",
      "\n"
     ]
    }
   ],
   "source": [
    "#Q6\n",
    "f1 = open(\"C:\\\\Work\\\\Python\\\\Python_Study\\\\test.txt\",'a')\n",
    "user_input = input(\"저장할 내용을 입력하세요:\")\n",
    "f1.write(user_input)\n",
    "f1.write(\"\\n\")\n",
    "f1.close()\n",
    "f2 = open(\"C:\\\\Work\\\\Python\\\\Python_Study\\\\test.txt\",'r')\n",
    "result = f2.read()\n",
    "f2.close()\n",
    "print(result)"
   ]
  },
  {
   "cell_type": "code",
   "execution_count": 39,
   "metadata": {},
   "outputs": [],
   "source": [
    "#Q7\n",
    "f1 = open(\"C:\\\\Work\\\\Python\\\\Python_Study\\\\test.txt\",'r')\n",
    "result = f1.read()\n",
    "result = result.replace(\"java\",\"python\")\n",
    "f2 = open(\"C:\\\\Work\\\\Python\\\\Python_Study\\\\test.txt\",'w')\n",
    "f2.write(result)\n",
    "f1.close()\n",
    "f2.close()"
   ]
  }
 ],
 "metadata": {
  "kernelspec": {
   "display_name": "Python 3",
   "language": "python",
   "name": "python3"
  },
  "language_info": {
   "codemirror_mode": {
    "name": "ipython",
    "version": 3
   },
   "file_extension": ".py",
   "mimetype": "text/x-python",
   "name": "python",
   "nbconvert_exporter": "python",
   "pygments_lexer": "ipython3",
   "version": "3.7.7"
  }
 },
 "nbformat": 4,
 "nbformat_minor": 4
}
