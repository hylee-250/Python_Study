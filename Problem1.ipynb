{
 "cells": [
  {
   "cell_type": "code",
   "execution_count": 1,
   "metadata": {},
   "outputs": [],
   "source": [
    "def median(A):\n",
    "    if(len(A)%2 ==0):\n",
    "        median_idx = int(len(A)/2)-1\n",
    "    else:\n",
    "        median_idx = int((len(A)/2))\n",
    "    median = A[median_idx]\n",
    "    return median"
   ]
  },
  {
   "cell_type": "code",
   "execution_count": 2,
   "metadata": {},
   "outputs": [],
   "source": [
    "def median_sum():\n",
    "    N,a,b = input().split()\n",
    "    N = int(N)\n",
    "    a = int(a)\n",
    "    b = int(b)\n",
    "    A = [1983]\n",
    "    median_sum=0\n",
    "    for j in range(N):\n",
    "        if(j ==0):\n",
    "            temp = 1983\n",
    "        else:\n",
    "            temp = ((temp*a+b)%20090711)\n",
    "            for k in range(j):\n",
    "                if(A[k]>temp):\n",
    "                    A.insert(k,temp)\n",
    "                    break\n",
    "                elif((k+1) ==j):\n",
    "                    A.insert(k+1,temp)\n",
    "        median_sum += median(A)\n",
    "    return median_sum"
   ]
  },
  {
   "cell_type": "code",
   "execution_count": 3,
   "metadata": {},
   "outputs": [
    {
     "name": "stdout",
     "output_type": "stream",
     "text": [
      "3\n",
      "10 1 0\n",
      "10 1 1\n",
      "10000 1273 4936\n",
      "19830\n",
      "19850\n",
      "2448920\n"
     ]
    }
   ],
   "source": [
    "C = int(input())\n",
    "result = []\n",
    "for i in range(C):\n",
    "    result.append(median_sum())\n",
    "for j in range(len(result)):\n",
    "    print(result[j]%20090711)"
   ]
  },
  {
   "cell_type": "code",
   "execution_count": null,
   "metadata": {},
   "outputs": [],
   "source": []
  }
 ],
 "metadata": {
  "kernelspec": {
   "display_name": "Python 3",
   "language": "python",
   "name": "python3"
  },
  "language_info": {
   "codemirror_mode": {
    "name": "ipython",
    "version": 3
   },
   "file_extension": ".py",
   "mimetype": "text/x-python",
   "name": "python",
   "nbconvert_exporter": "python",
   "pygments_lexer": "ipython3",
   "version": "3.7.7"
  }
 },
 "nbformat": 4,
 "nbformat_minor": 4
}
