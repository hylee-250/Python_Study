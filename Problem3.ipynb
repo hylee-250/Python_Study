{
 "cells": [
  {
   "cell_type": "code",
   "execution_count": 25,
   "metadata": {},
   "outputs": [],
   "source": [
    "def quadTree(string,idx):\n",
    "    if(string[idx]=='w'):\n",
    "        return 'w'\n",
    "    if(string[idx]=='b'):\n",
    "        return 'b'\n",
    "    if(string[idx]=='x'):\n",
    "        idx += 1\n",
    "        str1 = quadTree(string,idx)\n",
    "        idx += len(str1)\n",
    "        str2 = quadTree(string,idx)\n",
    "        idx += len(str2)\n",
    "        str3 = quadTree(string,idx)\n",
    "        idx += len(str3)\n",
    "        str4 = quadTree(string,idx)\n",
    "        idx += len(str4)\n",
    "    return 'x'+str3+str4+str1+str2\n",
    "\n",
    "def main():\n",
    "    try:\n",
    "        results_list = []\n",
    "        while(1):\n",
    "            try:\n",
    "                case = int(input())\n",
    "                if((case >= 1) & (case<=50)):\n",
    "                    break\n",
    "                else:\n",
    "                    print(\"1에서 50 사이의 수를 입력하세요.\")\n",
    "            except ValueError:\n",
    "                print(\"올바르지 않은 입력 형식입니다.\")\n",
    "        for i in range(case):\n",
    "            while(1):\n",
    "                try:\n",
    "                    user_input = input()\n",
    "                    for char in user_input:\n",
    "                        if((char != 'x')&(char != 'w')&(char != 'b')):\n",
    "                            raise ValueError\n",
    "                    break\n",
    "                except ValueError:\n",
    "                    print(\"x,w,b로 이루어진 문자열을 입력하세요\")\n",
    "                except UnboundLocalError:\n",
    "                    print(\"올바르지 않은 입력 형식입니다.\")\n",
    "            result = quadTree(user_input,0)\n",
    "            results_list.append(result)\n",
    "        for i in range(case):\n",
    "            print(results_list[i])\n",
    "    except KeyboardInterrupt:\n",
    "        print(\"중단됨\")"
   ]
  },
  {
   "cell_type": "code",
   "execution_count": 27,
   "metadata": {},
   "outputs": [
    {
     "name": "stdout",
     "output_type": "stream",
     "text": [
      "aa\n",
      "올바르지 않은 입력 형식입니다.\n",
      "4\n",
      "w\n",
      "xbwwb\n",
      "abc\n",
      "x,w,b로 이루어진 문자열을 입력하세요\n",
      "xbwxwbbwb\n",
      "xxwwwbxwxwbbbwwxxxwwbbbwwwwbb\n",
      "w\n",
      "xwbbw\n",
      "xxbwwbbbw\n",
      "xxwbxwwxbbwwbwbxwbwwxwwwxbbwb\n"
     ]
    }
   ],
   "source": [
    "main()"
   ]
  },
  {
   "cell_type": "code",
   "execution_count": null,
   "metadata": {},
   "outputs": [],
   "source": [
    "xxwbxwwxbbwwbwbxwbwwxwwwxbbwb"
   ]
  }
 ],
 "metadata": {
  "kernelspec": {
   "display_name": "Python 3",
   "language": "python",
   "name": "python3"
  },
  "language_info": {
   "codemirror_mode": {
    "name": "ipython",
    "version": 3
   },
   "file_extension": ".py",
   "mimetype": "text/x-python",
   "name": "python",
   "nbconvert_exporter": "python",
   "pygments_lexer": "ipython3",
   "version": "3.7.7"
  }
 },
 "nbformat": 4,
 "nbformat_minor": 4
}
