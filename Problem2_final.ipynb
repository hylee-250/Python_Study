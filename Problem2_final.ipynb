{
 "cells": [
  {
   "cell_type": "code",
   "execution_count": 22,
   "metadata": {},
   "outputs": [
    {
     "name": "stdout",
     "output_type": "stream",
     "text": [
      "3\n",
      "2\n",
      "4\n",
      "92\n",
      "2\n",
      "19\n",
      "4841817\n"
     ]
    }
   ],
   "source": [
    "def dp_init(n): # index+1 만큼의 개수로 이루어진 -1 리스트 생성\n",
    "    global dp\n",
    "    dp = []\n",
    "    for i in range(n):\n",
    "        A = []\n",
    "        for j in range(i+1):\n",
    "            A.append(-1)\n",
    "        dp.append(A)\n",
    "    for i in range(n): # 행과 열의 index가 같은 배열은 1로 초기화\n",
    "        for j in range(len(dp[i])):\n",
    "            if(i==j):\n",
    "                dp[i][j] = 1\n",
    "    return dp\n",
    "def poly_dp(n,down): # down: 1~n\n",
    "    if(n == down):\n",
    "        return 1\n",
    "    if(dp[n-1][down-1] != -1):\n",
    "        return dp[n-1][down-1]\n",
    "    result = 0\n",
    "    for k in range(1,n-down+1):\n",
    "        result += (down+k-1)*poly_dp(n-down,k)\n",
    "    dp[n-1][down-1]=result%10000000\n",
    "    return dp[n-1][down-1]\n",
    "def main():\n",
    "    try:\n",
    "        dp = dp_init(100)\n",
    "        results_list = []\n",
    "        while(1):\n",
    "            try:\n",
    "                case = int(input())\n",
    "                if((case >= 1) & (case<=50)):\n",
    "                    break\n",
    "                else:\n",
    "                    print(\"1에서 50 사이의 수를 입력하세요.\")\n",
    "            except ValueError:\n",
    "                print(\"올바르지 않은 입력 형식입니다.\")\n",
    "        for i in range(case):\n",
    "            while (1):\n",
    "                try:\n",
    "                    n = int(input())\n",
    "                    if((n<=100) & (n>=1)):\n",
    "                        break\n",
    "                    else:\n",
    "                        print(\"1에서 100 사이의 수를 입력하세요.\")\n",
    "                except ValueError:\n",
    "                    print(\"올바르지 않은 입력 형식입니다.\")\n",
    "                except UnboundLocalError:\n",
    "                    print(\"올바르지 않은 입력 형식입니다.\")\n",
    "            result = 0\n",
    "            for down in range(1,n+1): # down : 1~n\n",
    "                result += poly_dp(n,down)\n",
    "            results_list.append(result%10000000)\n",
    "        for i in range(case):\n",
    "            print(results_list[i])\n",
    "    except KeyboardInterrupt:\n",
    "        print(\"중단됨\")\n",
    "main()"
   ]
  }
 ],
 "metadata": {
  "kernelspec": {
   "display_name": "Python 3",
   "language": "python",
   "name": "python3"
  },
  "language_info": {
   "codemirror_mode": {
    "name": "ipython",
    "version": 3
   },
   "file_extension": ".py",
   "mimetype": "text/x-python",
   "name": "python",
   "nbconvert_exporter": "python",
   "pygments_lexer": "ipython3",
   "version": "3.7.7"
  }
 },
 "nbformat": 4,
 "nbformat_minor": 4
}
