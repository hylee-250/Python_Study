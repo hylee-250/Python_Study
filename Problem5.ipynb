{
 "cells": [
  {
   "cell_type": "code",
   "execution_count": 3,
   "metadata": {},
   "outputs": [
    {
     "name": "stdout",
     "output_type": "stream",
     "text": [
      "3\n",
      "6\n",
      "3000 2700 2800 2200 2500 1900\n",
      "2800 2750 2995 1800 2600 2000\n",
      "3\n",
      "1 2 3\n",
      "3 2 1\n",
      "4\n",
      "2 3 4 5\n",
      "1 2 3 4\n",
      "5\n",
      "3\n",
      "3\n"
     ]
    }
   ],
   "source": [
    "result = []\n",
    "try:\n",
    "    while(1):\n",
    "        try:\n",
    "            case = int(input())\n",
    "            if((case >= 1) & (case<=50)):\n",
    "                break\n",
    "            else:\n",
    "                print(\"1에서 50 사이의 수를 입력하세요.\")\n",
    "        except ValueError:\n",
    "            print(\"올바르지 않은 입력 형식입니다.\")\n",
    "    for _ in range(case):\n",
    "        while(1):\n",
    "            try:\n",
    "                n = int(input())\n",
    "                if((n >= 1) & (n<=100)):\n",
    "                    break\n",
    "                else:\n",
    "                    print(\"1에서 100 사이의 수를 입력하세요.\")\n",
    "            except ValueError:\n",
    "                print(\"올바르지 않은 입력 형식입니다.\")\n",
    "        while(1):\n",
    "            try:\n",
    "                Russia = input().split()\n",
    "                if(len(Russia)!= n):\n",
    "                    print(f\"1과 4000 사이의 {n}개의 숫자를 입력하세요\")\n",
    "                else:\n",
    "                    break\n",
    "            except ValueError:\n",
    "                print(\"올바르지 않은 입력 형식입니다.\")\n",
    "        while(1):\n",
    "            try:       \n",
    "                Korea = input().split()\n",
    "                if(len(Korea)!= n):\n",
    "                    print(f\"1과 4000 사이의 {n}개의 숫자를 입력하세요\")\n",
    "                else:\n",
    "                    break\n",
    "            except ValueError:\n",
    "                print(\"올바르지 않은 입력 형식입니다.\")\n",
    "        for idx in range(len(Russia)):\n",
    "            Russia[idx] = int(Russia[idx])\n",
    "        for idx in range(len(Korea)):\n",
    "            Korea[idx] = int(Korea[idx])\n",
    "        Russia = sorted(Russia)\n",
    "        Korea = sorted(Korea)\n",
    "        r_idx = 0\n",
    "        sequence = []\n",
    "        while(r_idx < n):\n",
    "            check = 0\n",
    "            for idx in range(len(Korea)):\n",
    "                if(Russia[r_idx]<=Korea[idx]):\n",
    "                    sequence.append(Korea.pop(idx))\n",
    "                    r_idx += 1\n",
    "                    check = 1\n",
    "                    break\n",
    "            if(check == 0):\n",
    "                r_idx += 1\n",
    "        result.append((len(sequence)))\n",
    "except KeyboardInterrupt:\n",
    "    print(\"중단됨\")\n",
    "for i in result:\n",
    "    print(i)"
   ]
  },
  {
   "cell_type": "code",
   "execution_count": null,
   "metadata": {},
   "outputs": [],
   "source": []
  }
 ],
 "metadata": {
  "kernelspec": {
   "display_name": "Python 3",
   "language": "python",
   "name": "python3"
  },
  "language_info": {
   "codemirror_mode": {
    "name": "ipython",
    "version": 3
   },
   "file_extension": ".py",
   "mimetype": "text/x-python",
   "name": "python",
   "nbconvert_exporter": "python",
   "pygments_lexer": "ipython3",
   "version": "3.7.7"
  }
 },
 "nbformat": 4,
 "nbformat_minor": 4
}
