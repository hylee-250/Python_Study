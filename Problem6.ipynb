{
 "cells": [
  {
   "cell_type": "code",
   "execution_count": 1,
   "metadata": {},
   "outputs": [],
   "source": [
    "# a : 입력 받은 리스트, tree : segment tree를 구현할 리스트\n",
    "# start : a의 시작 index , end : a의 끝 index\n",
    "# start와 end 사이의 최소값 반환하는 함수\n",
    "def init(a,tree, start,end,node):\n",
    "    if(start == end):\n",
    "        tree[node] = a[start]\n",
    "        return tree[node]\n",
    "    mid = (start+end)//2\n",
    "    tree[node] = min(init(a,tree,start,mid,node*2),init(a,tree,mid+1,end,node*2+1))\n",
    "    return tree[node]"
   ]
  },
  {
   "cell_type": "code",
   "execution_count": 2,
   "metadata": {},
   "outputs": [],
   "source": [
    "# tree : segment tree\n",
    "# start, end : 최소값을 알기 원하는 범위의 시작과 끝\n",
    "# nodeLeft, nodeRight : 현재 노드가 어느 인덱스 사이의 최소값을 나타내는지 알려줌\n",
    "# node 현재 노드의 index\n",
    "# start와 end 사이의 최소값을 반환한다.\n",
    "def findMin(tree,start,end,node,nodeLeft,nodeRight):\n",
    "    max = 10000\n",
    "    if((end<nodeLeft)|(start>nodeRight)):\n",
    "        return max\n",
    "    if((start<=nodeLeft)&(end>=nodeRight)):\n",
    "        return tree[node]\n",
    "    mid = (nodeLeft+nodeRight)//2\n",
    "    return min(findMin(tree,start,end,node*2,nodeLeft,mid),findMin(tree,start,end,node*2+1,mid+1,nodeRight))"
   ]
  },
  {
   "cell_type": "code",
   "execution_count": 3,
   "metadata": {},
   "outputs": [
    {
     "name": "stdout",
     "output_type": "stream",
     "text": [
      "1\n",
      "10 4\n",
      "3 9 5 6 10 8 7 1 2 4\n",
      "0 9\n",
      "4 8\n",
      "2 6\n",
      "1 2\n",
      "9\n",
      "9\n",
      "5\n",
      "4\n"
     ]
    }
   ],
   "source": [
    "result_list = []\n",
    "C = int(input())\n",
    "for i in range(C):\n",
    "    N,Q = input().split()\n",
    "    N = int(N)\n",
    "    Q = int(Q)\n",
    "    while(1):\n",
    "        user_input = input().split()\n",
    "        user_input = list(map(int,user_input))\n",
    "        if(len(user_input)== N):\n",
    "            break\n",
    "        print(f\"{N}개의 숫자를 입력해주세요\")\n",
    "    # 값은 유지한 채 부호만 바꾼다면 최소값을 구했을 시 절대값은 최대가 되는 것을 이용하기 위해서 -1을 곱한 값들을 가진 리스트 생성\n",
    "    minus_user_input = list(map(lambda a:a*-1,user_input))\n",
    "    # segment tree 공간을 미리 할당하고 0으로 초기화\n",
    "    min_tree = [0 for _ in range(len(user_input)*4)]\n",
    "    max_tree = [0 for _ in range(len(minus_user_input)*4)]\n",
    "    # 입력 받은 리스트로 최소값과 최대값을 구하는 segment tree 생성\n",
    "    init(user_input,min_tree,0,len(user_input)-1,1)\n",
    "    init(minus_user_input,max_tree,0,len(minus_user_input)-1,1)\n",
    "    for _ in range(Q):\n",
    "        a,b = input().split()\n",
    "        a = int(a)\n",
    "        b = int(b)\n",
    "        min_val = findMin(min_tree,a,b,1,0,len(user_input)-1)\n",
    "        max_val = abs(findMin(max_tree,a,b,1,0,len(minus_user_input)-1))\n",
    "        result = max_val - min_val\n",
    "        result_list.append(result)\n",
    "for res in result_list:\n",
    "    print(res)"
   ]
  }
 ],
 "metadata": {
  "kernelspec": {
   "display_name": "Python 3",
   "language": "python",
   "name": "python3"
  },
  "language_info": {
   "codemirror_mode": {
    "name": "ipython",
    "version": 3
   },
   "file_extension": ".py",
   "mimetype": "text/x-python",
   "name": "python",
   "nbconvert_exporter": "python",
   "pygments_lexer": "ipython3",
   "version": "3.7.7"
  }
 },
 "nbformat": 4,
 "nbformat_minor": 4
}
