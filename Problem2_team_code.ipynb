{
 "cells": [
  {
   "cell_type": "code",
   "execution_count": 3,
   "metadata": {},
   "outputs": [
    {
     "name": "stdout",
     "output_type": "stream",
     "text": [
      "입력하세요\n",
      "1<=C<=50\n",
      "1<=n<=100\n",
      "1\n",
      "100\n",
      "6803331\n"
     ]
    }
   ],
   "source": [
    "try:  \n",
    "    print('입력하세요\\n1<=C<=50\\n1<=n<=100')\n",
    "\n",
    "\n",
    "    while True:\n",
    "        try:\n",
    "            C=int(input())  #입력을 받는다. C: 케이스의 수\n",
    "            if C<1 or C>50:\n",
    "                raise IndexError(\"범위를 초과했습니다. 다시 입력하세요. (1<=C<=50)\")\n",
    "            break\n",
    "        except(IndexError):\n",
    "            print(\"범위를 초과했습니다. 다시 입력하세요. (1<=C<=50)\")\n",
    "        except:\n",
    "            print(\"올바른 입력형식이 아닙니다. 다시 입력하세요 (1<=C<=50)\")\n",
    "\n",
    "\n",
    "    def polyo(n,a):  ##런타임 에러 해결 dynamic programming (memorization)\n",
    "        if n==a:\n",
    "            polyoList[n-1][a-1]=1\n",
    "            return 1\n",
    "        if polyoList[n-1][a-1] != -1:\n",
    "            return polyoList[n-1][a-1]\n",
    "        else:\n",
    "            polyomino=0\n",
    "            for i in range(1,n-a+1):\n",
    "                polyomino=polyomino+polyo(n-a,i)*(a+i-1)\n",
    "                polyomino=polyomino%10000000\n",
    "                polyoList[n-1][a-1]=polyomino\n",
    "            return polyomino\n",
    "\n",
    "    polyoList=[]\n",
    "    i=1\n",
    "    while i<101:\n",
    "        polyoList.append([-1 for k in range(i)])\n",
    "        i=i+1\n",
    "\n",
    "\n",
    "    i=0\n",
    "    N=list(range(C))\n",
    "    R=list(range(C))\n",
    "    while i<C:\n",
    "        while True:\n",
    "            try:\n",
    "                N[i]=int(input())  #입력을 받는다. n: 정사각형의 수\n",
    "                if N[i]<1 or N[i]>100:\n",
    "                    raise IndexError(\"범위를 초과했습니다. 다시 입력하세요. (1<=n<=100) \")\n",
    "                break\n",
    "            except(IndexError):\n",
    "                print(\"범위를 초과했습니다. 다시 입력하세요. (1<=n<=100)\")\n",
    "            except:\n",
    "                print(\"올바른 입력형식이 아닙니다. 다시 입력하세요 (1<=n<=100)\")\n",
    "        \n",
    "        n=N[i]\n",
    "        polyominoR=0\n",
    "        for k in range(1,n+1):\n",
    "            polyominoR=polyominoR+polyo(n,1+n-k)  #연산시간이 짧은 것부터 넣어봄. (1+n-)지우면됨.\n",
    "            #print(k,\"k 입력값까지\")  #코드 check\n",
    "        R[i]=polyominoR\n",
    "        i=i+1\n",
    "\n",
    "\n",
    "#결과 출력           \n",
    "    for i in range(0,C):\n",
    "        print(R[i]%10000000)\n",
    "\n",
    "\n",
    "except KeyboardInterrupt:\n",
    "    print(\"중지함\")"
   ]
  },
  {
   "cell_type": "code",
   "execution_count": null,
   "metadata": {},
   "outputs": [],
   "source": []
  }
 ],
 "metadata": {
  "kernelspec": {
   "display_name": "Python 3",
   "language": "python",
   "name": "python3"
  },
  "language_info": {
   "codemirror_mode": {
    "name": "ipython",
    "version": 3
   },
   "file_extension": ".py",
   "mimetype": "text/x-python",
   "name": "python",
   "nbconvert_exporter": "python",
   "pygments_lexer": "ipython3",
   "version": "3.7.7"
  }
 },
 "nbformat": 4,
 "nbformat_minor": 4
}
